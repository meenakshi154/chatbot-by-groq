{
 "cells": [
  {
   "cell_type": "code",
   "execution_count": 18,
   "id": "3db8e058",
   "metadata": {},
   "outputs": [],
   "source": [
    "GROQ_API_KEY=\"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\""
   ]
  },
  {
   "cell_type": "code",
   "execution_count": null,
   "id": "c75be432",
   "metadata": {},
   "outputs": [],
   "source": [
    "pip install openai==0.28 gradio"
   ]
  },
  {
   "cell_type": "code",
   "execution_count": 21,
   "id": "64d0eac4",
   "metadata": {},
   "outputs": [
    {
     "name": "stdout",
     "output_type": "stream",
     "text": [
      "Running on local URL:  http://127.0.0.1:7868\n",
      "\n",
      "To create a public link, set `share=True` in `launch()`.\n"
     ]
    },
    {
     "data": {
      "text/html": [
       "<div><iframe src=\"http://127.0.0.1:7868/\" width=\"100%\" height=\"500\" allow=\"autoplay; camera; microphone; clipboard-read; clipboard-write;\" frameborder=\"0\" allowfullscreen></iframe></div>"
      ],
      "text/plain": [
       "<IPython.core.display.HTML object>"
      ]
     },
     "metadata": {},
     "output_type": "display_data"
    },
    {
     "data": {
      "text/plain": []
     },
     "execution_count": 21,
     "metadata": {},
     "output_type": "execute_result"
    },
    {
     "name": "stdout",
     "output_type": "stream",
     "text": [
      "IMPORTANT: You are using gradio version 4.15.0, however version 4.44.1 is available, please upgrade.\n",
      "--------\n"
     ]
    }
   ],
   "source": [
    "import gradio as gr\n",
    "import openai\n",
    "\n",
    "openai.api_key= GROQ_API_KEY\n",
    "openai.api_base=\"https://api.groq.com/openai/v1\"\n",
    "\n",
    "def get_groq_response(message):\n",
    "    try:\n",
    "        response= openai.ChatCompletion.create(\n",
    "            model= \"llama-3.1-70b-versatile\",\n",
    "            messages=[\n",
    "                {\"role\": \"user\",\"content\":message}\n",
    "            ]\n",
    "        )\n",
    "        return response.choices[0].message[\"content\"]\n",
    "    except Exception as e:\n",
    "        return f\"Error: {str(e)}\"\n",
    "    \n",
    "    \n",
    "def chatbot (user_input, history = []):\n",
    "    bot_response = get_groq_response(user_input)\n",
    "    history.append((user_input, bot_response))\n",
    "    return history, history\n",
    "\n",
    "chat_interface = gr.Interface(\n",
    "    fn = chatbot,\n",
    "    inputs = [\"text\", \"state\"],\n",
    "    outputs = [\"chatbot\", \"state\"],\n",
    "    live = False,\n",
    "    title = \"my chatbot\",\n",
    "    description = \"Mom: we have chatgpt at home, \\n Chatgpt at home:\"\n",
    ")\n",
    "\n",
    "chat_interface.launch()"
   ]
  },
  {
   "cell_type": "code",
   "execution_count": null,
   "id": "a9b072b0",
   "metadata": {},
   "outputs": [],
   "source": []
  }
 ],
 "metadata": {
  "kernelspec": {
   "display_name": "Python 3 (ipykernel)",
   "language": "python",
   "name": "python3"
  },
  "language_info": {
   "codemirror_mode": {
    "name": "ipython",
    "version": 3
   },
   "file_extension": ".py",
   "mimetype": "text/x-python",
   "name": "python",
   "nbconvert_exporter": "python",
   "pygments_lexer": "ipython3",
   "version": "3.11.4"
  }
 },
 "nbformat": 4,
 "nbformat_minor": 5
}
